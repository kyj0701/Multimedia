{
 "cells": [
  {
   "cell_type": "code",
   "execution_count": 1,
   "metadata": {},
   "outputs": [],
   "source": [
    "import cv2"
   ]
  },
  {
   "cell_type": "code",
   "execution_count": 2,
   "metadata": {},
   "outputs": [],
   "source": [
    "class ImageFeature():\n",
    "    def __init__(self, filename, image, keypoint, descriptor):\n",
    "        self.filename = filename\n",
    "        self.image = image\n",
    "        self.keypoint = keypoint\n",
    "        self.descriptor = descriptor\n",
    "\n",
    "    def get_filename(self):\n",
    "        return self.filename\n",
    "\n",
    "    def get_descriptor(self):\n",
    "        return self.descriptor\n",
    "\n",
    "    def compare_with(self, image_feature):\n",
    "        # BFMatcher with default params\n",
    "        bf = cv2.BFMatcher()\n",
    "        matches = bf.knnMatch(self.descriptor, image_feature.get_descriptor(), k=2)\n",
    "\n",
    "        # ratio test\n",
    "        # 최근접 이웃 2개가 충분히 차이가 있으면 좋은 매칭\n",
    "        good_match = []\n",
    "        for m, n in matches:\n",
    "            if m.distance < 0.5 * n.distance:\n",
    "                good_match.append([m])\n",
    "\n",
    "        # 두 이미지 사이에 충분한 수의 좋은 매칭이 있으면 서로 관련된 영상\n",
    "        return len(good_match) > 15\n",
    "\n",
    "\n",
    "class SiftFeatureExtractor():\n",
    "    def __init__(self):\n",
    "        # Initiate SIFT detector\n",
    "        self.sift = cv2.xfeatures2d.SIFT_create()\n",
    "\n",
    "    def get_image_feature_with_filename(self, filename):\n",
    "        image = cv2.imread(filename)\n",
    "\n",
    "        # SIFT 특징점 및 기술자 추출\n",
    "        keypoint, descriptor = self.sift.detectAndCompute(image, None)\n",
    "        return ImageFeature(filename, image, keypoint, descriptor)"
   ]
  },
  {
   "cell_type": "code",
   "execution_count": null,
   "metadata": {},
   "outputs": [],
   "source": [
    "import os\n",
    "from glob import glob\n",
    "from matplotlib import pyplot as plt\n",
    "\n",
    "sift = SiftFeatureExtractor()\n",
    "\n",
    "# 영상을 검색할 저장소 구성\n",
    "feature_database = []\n",
    "# glob() 함수는 인자로 받은 패턴과 이름이 일치하는 모든 파일과 디렉터리의 리스트를 반환\n",
    "for index, path in enumerate(glob(\"./INRIAPerson/db/*.png\")):\n",
    "    feature_database.append(sift.get_image_feature_with_filename(path))\n",
    "\n",
    "# 검색할 영상\n",
    "target_path = \"./INRIAPerson/db/crop001001.png\"\n",
    "target = sift.get_image_feature_with_filename(target_path)\n",
    "\n",
    "\n",
    "found = False\n",
    "matched = []\n",
    "# 저장소에서 모든 영상과 비교하여 관련된 영상 찾기\n",
    "for saved in feature_database:\n",
    "    associated = target.compare_with(saved)\n",
    "    if associated:\n",
    "        found = True\n",
    "        matched.append(saved)\n",
    "\n",
    "# 관련된 영상이 있는 경우 영상 출력\n",
    "if found:\n",
    "    plt.figure(figsize=(15,15))\n",
    "\n",
    "    target_image = cv2.imread(target.get_filename())\n",
    "    target_image = cv2.cvtColor(target_image, cv2.COLOR_BGR2RGB)\n",
    "    plt.subplot(3,5,1)\n",
    "    plt.imshow(target_image)\n",
    "\n",
    "    for index, match in enumerate(matched):\n",
    "        match_image = cv2.imread(match.get_filename())\n",
    "        match_image = cv2.cvtColor(match_image, cv2.COLOR_BGR2RGB)\n",
    "        plt.subplot(3, 5, 6+index)\n",
    "        plt.imshow(match_image)\n",
    "\n",
    "    plt.plot()"
   ]
  },
  {
   "cell_type": "code",
   "execution_count": null,
   "metadata": {},
   "outputs": [],
   "source": []
  }
 ],
 "metadata": {
  "kernelspec": {
   "display_name": "Python 3",
   "language": "python",
   "name": "python3"
  },
  "language_info": {
   "codemirror_mode": {
    "name": "ipython",
    "version": 3
   },
   "file_extension": ".py",
   "mimetype": "text/x-python",
   "name": "python",
   "nbconvert_exporter": "python",
   "pygments_lexer": "ipython3",
   "version": "3.8.5"
  }
 },
 "nbformat": 4,
 "nbformat_minor": 5
}
